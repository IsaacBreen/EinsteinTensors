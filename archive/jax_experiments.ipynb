{
 "cells": [
  {
   "cell_type": "code",
   "execution_count": 17,
   "metadata": {},
   "outputs": [],
   "source": [
    "from jax import make_jaxpr\n",
    "import jax.numpy as jnp\n",
    "from jax import grad, jit, vmap\n",
    "import jax.random as random\n",
    "key = random.PRNGKey(0)\n",
    "\n",
    "def k():\n",
    "    global key\n",
    "    key, key2 = random.split(key)\n",
    "    return key2"
   ]
  },
  {
   "cell_type": "code",
   "execution_count": 18,
   "metadata": {},
   "outputs": [
    {
     "data": {
      "text/plain": [
       "{ lambda ; a:f32[8] b:f32[8]. let\n",
       "    c:f32[8] = sin b\n",
       "    d:f32[8] = mul c 3.0\n",
       "    e:f32[8] = add a d\n",
       "    f:f32[] = reduce_sum[axes=(0,)] e\n",
       "  in (f,) }"
      ]
     },
     "execution_count": 18,
     "metadata": {},
     "output_type": "execute_result"
    }
   ],
   "source": [
    "def func1(first, second):\n",
    "    temp = first + jnp.sin(second) * 3.\n",
    "    return jnp.sum(temp)\n",
    "\n",
    "make_jaxpr(func1)(jnp.zeros(8), jnp.ones(8))\n"
   ]
  },
  {
   "cell_type": "code",
   "execution_count": 26,
   "metadata": {},
   "outputs": [
    {
     "data": {
      "text/plain": [
       "{ lambda ; a:f32[8] b:f32[8]. let\n",
       "    c:f32[8] = sin b\n",
       "    d:f32[8] = cos b\n",
       "    e:f32[8] = mul c 3.0\n",
       "    f:f32[8] = add a e\n",
       "    _:f32[] = reduce_sum[axes=(0,)] f\n",
       "    g:f32[8] = broadcast_in_dim[broadcast_dimensions=() shape=(8,)] 1.0\n",
       "    h:f32[8] = mul g 3.0\n",
       "    i:f32[8] = mul h d\n",
       "  in (i,) }"
      ]
     },
     "execution_count": 26,
     "metadata": {},
     "output_type": "execute_result"
    }
   ],
   "source": [
    "x = random.normal(k(), (8,))\n",
    "y = random.normal(k(), (8,))\n",
    "make_jaxpr(grad(func1, 1))(x, y)"
   ]
  },
  {
   "cell_type": "code",
   "execution_count": 27,
   "metadata": {},
   "outputs": [
    {
     "name": "stdout",
     "output_type": "stream",
     "text": [
      "-0.5880289\n",
      "[-1.0148692  2.9654224  1.3846326  1.0471934  2.8733923  1.1474879\n",
      "  2.9817548  2.9977417]\n"
     ]
    }
   ],
   "source": [
    "print(func1(x, y))\n",
    "print(grad(func1, 1)(x, y))"
   ]
  },
  {
   "cell_type": "code",
   "execution_count": 16,
   "metadata": {},
   "outputs": [
    {
     "data": {
      "text/plain": [
       "(DeviceArray([2384771982, 3928867769], dtype=uint32),\n",
       " DeviceArray([1278412471, 2182328957], dtype=uint32))"
      ]
     },
     "execution_count": 16,
     "metadata": {},
     "output_type": "execute_result"
    }
   ],
   "source": [
    "k()"
   ]
  },
  {
   "cell_type": "code",
   "execution_count": null,
   "metadata": {},
   "outputs": [],
   "source": []
  },
  {
   "cell_type": "code",
   "execution_count": null,
   "metadata": {},
   "outputs": [],
   "source": []
  }
 ],
 "metadata": {
  "interpreter": {
   "hash": "a4e86c934b375bdfbcaa1924885d620a34ad2919c9a02314b4bebd1564549087"
  },
  "kernelspec": {
   "display_name": "Python 3.9.7 ('py39')",
   "language": "python",
   "name": "python3"
  },
  "language_info": {
   "codemirror_mode": {
    "name": "ipython",
    "version": 3
   },
   "file_extension": ".py",
   "mimetype": "text/x-python",
   "name": "python",
   "nbconvert_exporter": "python",
   "pygments_lexer": "ipython3",
   "version": "3.9.7"
  },
  "orig_nbformat": 4
 },
 "nbformat": 4,
 "nbformat_minor": 2
}
